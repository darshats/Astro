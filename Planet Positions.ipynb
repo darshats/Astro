{
 "cells": [
  {
   "cell_type": "code",
   "execution_count": 18,
   "metadata": {},
   "outputs": [
    {
     "name": "stdout",
     "output_type": "stream",
     "text": [
      "python is easy!\n"
     ]
    }
   ],
   "source": [
    "print('python is easy!')"
   ]
  },
  {
   "cell_type": "code",
   "execution_count": 19,
   "metadata": {},
   "outputs": [],
   "source": [
    "## Computing planetary positions based on Keplerian elements. Done in two steps:\n",
    "## 1) Compute rectangular ecliptic coordinates of planet in heliocentric system\n",
    "## 2) Compute rectangular ecliptic coordinates of earth in heliocentric system\n",
    "## 3) Add 1 and 2 to get geocentric rectangular ecliptic coordinates\n",
    "\n",
    "## Standish document https://ssd.jpl.nasa.gov/txt/aprx_pos_planets.pdf provides widely used\n",
    "## Keplerian elements. However it doesnt have elements for earth itself needed in Step 2. The \n",
    "## closest that can be used is one for Earth-Moon barymetric.\n",
    "## Tutorial by Paul Schlyter lists another set (probably again from NASA - didnt check) that \n",
    "## includes the elements for earth. This is the second way implemented in this notebook\n",
    "\n",
    "## Output is compared to Stellarium "
   ]
  },
  {
   "cell_type": "code",
   "execution_count": 20,
   "metadata": {},
   "outputs": [],
   "source": [
    "import math\n",
    "import numpy as np\n",
    "import pandas as pd\n",
    "import datetime\n",
    "from astropy.time import Time\n",
    "import matplotlib.pyplot as plt\n",
    "%matplotlib inline"
   ]
  },
  {
   "cell_type": "code",
   "execution_count": 21,
   "metadata": {},
   "outputs": [],
   "source": [
    "def cos(deg):\n",
    "    return math.cos(deg*math.pi/180)\n",
    "\n",
    "def sin(deg):\n",
    "    return math.sin(deg*math.pi/180)\n",
    "\n",
    "## borrowed from Paul Schlyter's tutorial - regular math.atan doesnt have these properties\n",
    "def arctan_stleimlen(x,y):\n",
    "    if x==0:\n",
    "        if y==0:\n",
    "            return 0\n",
    "        elif y>0:\n",
    "            return 90\n",
    "        else:\n",
    "            return -90\n",
    "    elif x>0:\n",
    "        return math.atan(y/x)*180/math.pi\n",
    "    else: ## x<0\n",
    "        if y>=0:\n",
    "            return math.atan(y/x)*180/math.pi + 180\n",
    "        else:\n",
    "            return math.atan(y/x)*180/math.pi - 180\n",
    "\n",
    "def get_T(julian):\n",
    "    return (julian-2451545)/36525\n",
    "\n",
    "def get_d(julian):\n",
    "    return julian-2451543.5\n",
    "\n",
    "def solve_E(M, e):\n",
    "    TOLERANCE = 1E-6\n",
    "    e_deg = e*180/math.pi\n",
    "    \n",
    "    ## E_ is in degree\n",
    "    E_ = M + e_deg*sin(M)\n",
    "    \n",
    "    for n in range(1,500):\n",
    "        delta_M = M - (E_ - e_deg*sin(E_))\n",
    "        delta_E = delta_M/(1 - e*cos(E_))\n",
    "        if (abs(delta_E) < TOLERANCE):\n",
    "            ## print(f'converged after {n} iterations')\n",
    "            break\n",
    "        E_ += delta_E\n",
    "        \n",
    "        \n",
    "    return E_"
   ]
  },
  {
   "cell_type": "code",
   "execution_count": 22,
   "metadata": {},
   "outputs": [],
   "source": [
    "def do_Standish(jd,a=1.52371243,e=0.09336511,I=1.85181869,L=-4.56813164,wbar=-23.91744784,N=49.71320984,\n",
    "                acy=0.00000097,ecy=0.00009149,Icy=-0.00724757,Lcy=19140.29934243,wbarcy=0.45223625,Ncy=-0.26852431):\n",
    "    \n",
    "    T = get_T(jd)\n",
    "\n",
    "    a += acy*T\n",
    "    e += ecy*T\n",
    "    I += Icy*T\n",
    "    L += Lcy*T\n",
    "    wbar += wbarcy*T\n",
    "    N += Ncy*T\n",
    "\n",
    "    ## print(f'a {a}, e {e}, I {I}, L {L}, wbar {wbar}, N {N}')\n",
    "    \n",
    "    ## wbar = w+N\n",
    "    w = wbar - N\n",
    "    M = L - wbar\n",
    "    if (M<0):\n",
    "        M = -(-M % 180)\n",
    "    else:\n",
    "        M = M % 180\n",
    "\n",
    "    ## print(f'w {w}, M {M}')\n",
    "\n",
    "    ## need to find E such that M = E - 57.29578e sinE\n",
    "    E = solve_E(M,e)\n",
    "    ## print(f'E {E}')\n",
    "    \n",
    "    ## X-axis aligned to perihilion!!\n",
    "    x_prime = a*(cos(E)-e)\n",
    "    y_prime = a*math.sqrt(1-e*e)*sin(E)\n",
    "    ## print(f'x_prime {x_prime}, y_prime {y_prime}')\n",
    "    \n",
    "    \n",
    "    ## X-axis aligned to equinox!!\n",
    "    x_ecl = x_prime*(cos(w)*cos(N)-sin(w)*sin(N)*cos(I)) - y_prime*(sin(w)*cos(N)+cos(w)*sin(N)*cos(I))\n",
    "    y_ecl = x_prime*(cos(w)*sin(N)+sin(w)*cos(N)*cos(I)) - y_prime*(sin(w)*sin(N)-cos(w)*cos(N)*cos(I))\n",
    "    z_ecl = x_prime*sin(w)*sin(I) + y_prime*cos(w)*sin(I)\n",
    "\n",
    "    return x_ecl,y_ecl,z_ecl"
   ]
  },
  {
   "cell_type": "code",
   "execution_count": 23,
   "metadata": {},
   "outputs": [
    {
     "name": "stdout",
     "output_type": "stream",
     "text": [
      "Standish MARS for 19/4/1990: x_mars_ecl 0.9301400688790877, y_mars_ecl 1.1438512668497707, z_mars_ecl 0.0009820579535514719\n"
     ]
    }
   ],
   "source": [
    "## julian date for 19-4-1990 using Stellarium\n",
    "jd = 2448000.4167\n",
    "\n",
    "## julian for 1-1-2004 using Stellarium\n",
    "jd = 2453005.458333\n",
    "\n",
    "## julian for 3000 BC\n",
    "## jd = 623846.480405\n",
    "\n",
    "## MARS\n",
    "a=1.52371243\n",
    "e=0.09336511\n",
    "I=1.85181869\n",
    "L=-4.56813164\n",
    "wbar=-23.91744784\n",
    "N=49.71320984\n",
    "acy=0.00000097\n",
    "ecy=0.00009149\n",
    "Icy=-0.00724757\n",
    "Lcy=19140.29934243\n",
    "wbarcy=0.45223625\n",
    "Ncy=-0.26852431\n",
    "\n",
    "x_mars_ecl, y_mars_ecl, z_mars_ecl, = do_Standish(jd,a,e,I,L,wbar,N,acy,ecy,Icy,Lcy,wbarcy,Ncy)\n",
    "print(f'Standish MARS for 19/4/1990: x_mars_ecl {x_mars_ecl}, y_mars_ecl {y_mars_ecl}, z_mars_ecl {z_mars_ecl}')"
   ]
  },
  {
   "cell_type": "code",
   "execution_count": 24,
   "metadata": {},
   "outputs": [
    {
     "name": "stdout",
     "output_type": "stream",
     "text": [
      "Standish SUN/EARTH for 19/4/1990: x_earth_ecl 0.17667851047751298, y_earth_ecl -1.0012388073980374, z_earth_ecl 1.8468220392266638e-05\n"
     ]
    }
   ],
   "source": [
    "## EARTH-MOON B as proy for SUN as per Standish \n",
    "a=1.00000018\n",
    "e=0.01673163\n",
    "I=-0.00054346\n",
    "L=100.46691572\n",
    "wbar=102.93005885\n",
    "N=-5.11260389\n",
    "acy=-0.00000003\n",
    "ecy=-0.00003661\n",
    "Icy=-0.01337178\n",
    "Lcy=35999.37306329\n",
    "wbarcy=0.31795260\n",
    "Ncy=-0.24123856\n",
    "\n",
    "x_earth_ecl, y_earth_ecl, z_earth_ecl = do_Standish(jd,a,e,I,L,wbar,N,acy,ecy,Icy,Lcy,wbarcy,Ncy)\n",
    "print(f'Standish SUN/EARTH for 19/4/1990: x_earth_ecl {x_earth_ecl}, y_earth_ecl {y_earth_ecl}, z_earth_ecl {z_earth_ecl}')\n"
   ]
  },
  {
   "cell_type": "code",
   "execution_count": 25,
   "metadata": {},
   "outputs": [
    {
     "name": "stdout",
     "output_type": "stream",
     "text": [
      "x 1.1068185793566008, y 0.13044637797541206, z 0.057645963575890996\n",
      "RA in hours 0.4481136096346479, Decl 2.960961452655975\n"
     ]
    }
   ],
   "source": [
    "## from Earth it is sum of sun and planet\n",
    "x_standish_ecl = x_mars_ecl + x_earth_ecl\n",
    "y_standish_ecl = y_mars_ecl + y_earth_ecl\n",
    "z_standish_ecl = z_mars_ecl + z_earth_ecl\n",
    "\n",
    "## now rotate by obliquity of Eclipise ie. 23 degree tilt to get equatorial\n",
    "oblecl = 23.4393\n",
    "x_standish = x_standish_ecl\n",
    "y_standish = y_standish_ecl * cos(oblecl) - z_standish_ecl * sin(oblecl)\n",
    "z_standish = y_standish_ecl * sin(oblecl) + z_standish_ecl * cos(oblecl)\n",
    "\n",
    "RA_standish = arctan_stleimlen(x_standish,y_standish)\n",
    "Decl_standish = arctan_stleimlen(math.sqrt(x_standish*x_standish + y_standish*y_standish),z_standish)\n",
    "\n",
    "if (RA_standish<0):\n",
    "    RA_standish += 360\n",
    "RA_standish_hours = RA_standish/15\n",
    "print(f'x {x_standish}, y {y_standish}, z {z_standish}')\n",
    "print(f'RA in hours {RA_standish_hours}, Decl {Decl_standish}')"
   ]
  },
  {
   "cell_type": "code",
   "execution_count": 26,
   "metadata": {},
   "outputs": [
    {
     "data": {
      "text/plain": [
       "6.721704144519719"
      ]
     },
     "execution_count": 26,
     "metadata": {},
     "output_type": "execute_result"
    }
   ],
   "source": [
    "RA_standish"
   ]
  },
  {
   "cell_type": "code",
   "execution_count": 27,
   "metadata": {},
   "outputs": [],
   "source": [
    "def rev(x):\n",
    "    rev = x - math.trunc(x/360.0)*360.0\n",
    "    if rev<0.0:\n",
    "        rev=rev+360.0\n",
    "      \n",
    "    return rev"
   ]
  },
  {
   "cell_type": "code",
   "execution_count": 50,
   "metadata": {},
   "outputs": [],
   "source": [
    "def do_stjarnhimlen(jd,a,e,w,M,a_d,e_d,w_d,M_d,N,N_d,I,I_d):\n",
    "    d = get_d(jd)\n",
    "    w = w + w_d*d\n",
    "    a = a + a_d*d\n",
    "    e = e + e_d*d\n",
    "    M = M + M_d*d\n",
    "    N = N + N_d*d\n",
    "    I = I + I_d*d\n",
    "    \n",
    "    ## take modulo 360\n",
    "    M = rev(M)\n",
    "    print(f'For date N I w a e M {N}, {I}, {w}, {a}, {e}, {M}')\n",
    "    \n",
    "    L = (w+M+N)%360\n",
    "    \n",
    "    E = solve_E(M,e)\n",
    "    ## print(f'E numerical {E}')\n",
    "    \n",
    "    ## X-axis aligned to perihilion!!\n",
    "    x = a * (cos(E)-e)\n",
    "    y = a * (sin(E)*math.sqrt(1-e*e))\n",
    "    ## print(f'x {x}, y {y}')\n",
    "    \n",
    "    v_nu = arctan_stleimlen(x,y)\n",
    "    r = math.sqrt(x*x + y*y)\n",
    "    ## print(f'v_nu {v_nu}, r {r}')\n",
    "    lon = (v_nu+w)%360\n",
    "    \n",
    "    ## For Sun N=0,i=0, it will reduce to\n",
    "    ## x_helio_ecl = r * cos(lon)\n",
    "    ## y_helio_ecl = r * sin(lon)\n",
    "    ## z_helio_ecl = 0.0\n",
    "    \n",
    "    ## ecliptic rectangular, also called xh,yh,zh\n",
    "    xeclip = r * ( cos(N) * cos(lon) - sin(N) * sin(lon) * cos(I) )\n",
    "    yeclip = r * ( sin(N) * cos(lon) + cos(N) * sin(lon) * cos(I) )\n",
    "    zeclip = r * sin(lon) * sin(I)\n",
    "    \n",
    "    ## here X is pointing to first point of Aries\n",
    "    \n",
    "    return xeclip, yeclip, zeclip"
   ]
  },
  {
   "cell_type": "code",
   "execution_count": 51,
   "metadata": {},
   "outputs": [
    {
     "name": "stdout",
     "output_type": "stream",
     "text": [
      "For date N I w a e M 0.0, 0.0, 283.01824873475516, 1.0, 0.01670731874791705, 356.9535109211031\n",
      "Stjarnhimlen for SUN: x_sun_helio_ecl 0.16851716912216655, y_sun_helio_ecl -0.9687695732422757, z_sun_helio_ecl -0.0\n"
     ]
    }
   ],
   "source": [
    "## STJARNHIMLEN method\n",
    "## SUN\n",
    "w = 282.9494\n",
    "w_d=4.70935E-5\n",
    "a=1\n",
    "a_d=0\n",
    "e=0.016709 \n",
    "e_d=-1.15E-9\n",
    "M=356.0470\n",
    "M_d=0.9856002585\n",
    "N=0\n",
    "N_d=0\n",
    "I=0\n",
    "I_d=0\n",
    "x_sun_helio_ecl,y_sun_helio_ecl,z_sun_helio_ecl = do_stjarnhimlen(jd,a,e,w,M,a_d,e_d,w_d,M_d,N,N_d,I,I_d)\n",
    "\n",
    "print(f'Stjarnhimlen for SUN: x_sun_helio_ecl {x_sun_helio_ecl}, y_sun_helio_ecl {y_sun_helio_ecl}, z_sun_helio_ecl {z_sun_helio_ecl}')\n"
   ]
  },
  {
   "cell_type": "code",
   "execution_count": 41,
   "metadata": {},
   "outputs": [
    {
     "name": "stdout",
     "output_type": "stream",
     "text": [
      "Stjarnhimlen for Mars 19/4/1990: x_mars_helio_ecl 0.9286117857249157, y_mars_helio_ecl 1.1451629263671625, z_mars_helio_ecl 0.0011409986836104686\n",
      "0:33.28\n",
      "x 1.0971289548470822, y 0.16138386310115704, z 0.07121211719352274\n",
      "RA in time (0, 33.472003385224504, 28.32020311347037), Decl 3.6742994658883275, RA in degress 8.368000846306126\n"
     ]
    }
   ],
   "source": [
    "## MARS\n",
    "N=49.5574\n",
    "N_d=2.11081E-5\n",
    "I=1.8497\n",
    "I_d=-1.78E-8\n",
    "w=286.5016\n",
    "w_d=2.92961E-5\n",
    "a=1.523688\n",
    "a_d=0\n",
    "e=0.093405\n",
    "e_d=2.516E-9\n",
    "M=18.6021\n",
    "M_d=0.5240207766\n",
    "x_mars_helio_ecl,y_mars_helio_ecl,z_mars_helio_ecl = do_stjarnhimlen(jd,a,e,w,M,a_d,e_d,w_d,M_d,N,N_d,I,I_d)\n",
    "print(f'Stjarnhimlen for Mars 19/4/1990: x_mars_helio_ecl {x_mars_helio_ecl}, y_mars_helio_ecl {y_mars_helio_ecl}, z_mars_helio_ecl {z_mars_helio_ecl}')\n",
    "\n",
    "## from Earth it is sum of x_sun_helio_ecl and x_mars_helio_ecl\n",
    "x_geo_ecl = x_mars_helio_ecl + x_sun_helio_ecl\n",
    "y_geo_ecl = y_mars_helio_ecl + y_sun_helio_ecl\n",
    "z_geo_ecl = z_mars_helio_ecl + z_sun_helio_ecl\n",
    "\n",
    "## now rotate by obliquity of Eclipise ie. 23 degree tilt to get equatorial\n",
    "oblecl = 23.4393\n",
    "x_geo_eq = x_geo_ecl\n",
    "y_geo_eq = y_geo_ecl * cos(oblecl) - z_geo_ecl * sin(oblecl)\n",
    "z_geo_eq = y_geo_ecl * sin(oblecl) + z_geo_ecl * cos(oblecl)\n",
    "\n",
    "RA = arctan_stleimlen(x_geo_eq,y_geo_eq)\n",
    "Decl = arctan_stleimlen(math.sqrt(x_geo_eq*x_geo_eq + y_geo_eq*y_geo_eq),z_geo_eq)\n",
    "#print(f'Stjarnhimlen for Mars 19/4/1990: x_geo_eq {x_geo_eq}, y_geo_eq {y_geo_eq}, z_geo_eq {z_geo_eq}, RA {RA}, decl {Decl}')\n",
    "\n",
    "if (RA<0):\n",
    "    RA += 360\n",
    "RA_hours = RA/15\n",
    "\n",
    "hours = int(RA_hours)\n",
    "minutes = (RA_hours*60) % 60\n",
    "seconds = (RA_hours*3600) % 60\n",
    "\n",
    "print(\"%d:%02d.%02d\" % (hours, minutes, seconds))\n",
    "\n",
    "\n",
    "print(f'x {x_geo_eq}, y {y_geo_eq}, z {z_geo_eq}')\n",
    "print(f'RA in time {hours, minutes, seconds}, Decl {Decl}, RA in degress {RA}')"
   ]
  },
  {
   "cell_type": "code",
   "execution_count": 14,
   "metadata": {},
   "outputs": [],
   "source": [
    "def do_MARS(jd_start):\n",
    "    \n",
    "    num_days = 10000\n",
    "    positions = np.zeros((10000,3), dtype='float64')\n",
    "    \n",
    "    for i in range(0,num_days):\n",
    "        jd = jd_start+i\n",
    "        \n",
    "        \n",
    "        ## first compute helio for MARS\n",
    "        N=49.5574\n",
    "        N_d=2.11081E-5\n",
    "        I=1.8497\n",
    "        I_d=-1.78E-8\n",
    "        w=286.5016\n",
    "        w_d=2.92961E-5\n",
    "        a=1.523688\n",
    "        a_d=0\n",
    "        e=0.093405\n",
    "        e_d=2.516E-9\n",
    "        M=18.6021\n",
    "        M_d=0.5240207766\n",
    "        x_mars_helio_ecl,y_mars_helio_ecl,z_mars_helio_ecl = do_stjarnhimlen(jd,a,e,w,M,a_d,e_d,w_d,M_d,N,N_d,I,I_d)\n",
    "        \n",
    "        ## then compute helio for SUN i.e. EARTH\n",
    "        w = 282.9494\n",
    "        w_d=4.70935E-5\n",
    "        a=1\n",
    "        a_d=0\n",
    "        e=0.016709 \n",
    "        e_d=-1.15E-9\n",
    "        M=356.0470\n",
    "        M_d=0.9856002585\n",
    "        N=0\n",
    "        N_d=0\n",
    "        I=0\n",
    "        I_d=0\n",
    "        x_sun_helio_ecl,y_sun_helio_ecl,z_sun_helio_ecl = do_stjarnhimlen(jd,a,e,w,M,a_d,e_d,w_d,M_d,N,N_d,I,I_d)\n",
    "\n",
    "        ## from Earth it is sum of x_sun_helio_ecl and x_mars_helio_ecl\n",
    "        x_geo_ecl = x_mars_helio_ecl + x_sun_helio_ecl\n",
    "        y_geo_ecl = y_mars_helio_ecl + y_sun_helio_ecl\n",
    "        z_geo_ecl = z_mars_helio_ecl + z_sun_helio_ecl\n",
    "        \n",
    "        positions[i][0] = x_geo_ecl\n",
    "        positions[i][1] = y_geo_ecl\n",
    "        positions[i][2] = z_geo_ecl\n",
    "        ##print(f'i {i}, positions {positions[i]}')\n",
    "        \n",
    "    return positions\n",
    "\n",
    "    "
   ]
  },
  {
   "cell_type": "code",
   "execution_count": 15,
   "metadata": {},
   "outputs": [],
   "source": [
    "## start at 3000bc\n",
    "jd_start = 623846.480405\n",
    "positions = do_MARS(jd_start)\n",
    "np.savetxt(\"p.csv\", positions, delimiter=\",\")\n"
   ]
  },
  {
   "cell_type": "code",
   "execution_count": 16,
   "metadata": {},
   "outputs": [],
   "source": [
    "colors = np.zeros((10000))\n",
    "for i in range(1,10000,1):\n",
    "    colors[i] = i%400\n",
    "\n",
    "%matplotlib widget"
   ]
  },
  {
   "cell_type": "code",
   "execution_count": 17,
   "metadata": {},
   "outputs": [
    {
     "data": {
      "application/vnd.jupyter.widget-view+json": {
       "model_id": "",
       "version_major": 2,
       "version_minor": 0
      },
      "text/plain": [
       "Canvas(toolbar=Toolbar(toolitems=[('Home', 'Reset original view', 'home', 'home'), ('Back', 'Back to previous …"
      ]
     },
     "metadata": {},
     "output_type": "display_data"
    }
   ],
   "source": [
    "from mpl_toolkits import mplot3d\n",
    "import itertools\n",
    "\n",
    "fig = plt.figure(figsize=(20,20))\n",
    "ax = plt.axes(projection='3d')\n",
    "ax.scatter(positions[:,0], positions[:,1], positions[:,2], s=5, c=colors)\n",
    "ax.set_xlabel('X')\n",
    "ax.set_ylabel('Y')\n",
    "ax.set_zlabel('Z')\n",
    "#ax.legend()\n",
    "plt.show()"
   ]
  },
  {
   "cell_type": "code",
   "execution_count": 48,
   "metadata": {},
   "outputs": [],
   "source": [
    "def do_rise_set(decl, RA_degrees, latitude, longitude, M_sun, w_sun):\n",
    "    ## latitude = phi\n",
    "    ## Decl is angle from equator to point x,y,z\n",
    "    ## HA is distance between meridian of point and celestial meridian\n",
    "    ## RA is distance between meridian of point and vernal equinox\n",
    "    ## Local sidereal time equals hour angle of vernal equinox. LST = RA\n",
    "    ## LST + longitude west = GST\n",
    "    ## LHA(star) + longitude west = GHA(star)\n",
    "    \n",
    "    ## sin(α) = sin(δ)sin(φ) + cos(δ) cos(φ) cos(H)\n",
    "    ## If a = 0° (the object is on horizon, either rising or setting), \n",
    "    ## then this equation becomes: \n",
    "    ## cos(H) = - tan(φ) tan(δ)\n",
    "    ## This gives the semi-diurnal arc H: \n",
    "    ## the time between the object crossing the horizon, and crossing the meridian. \n",
    "    cosH = -1*math.tan(decl)*math.tan(latitude*math.pi/180)\n",
    "    H = math.acos(cosH)\n",
    "    \n",
    "    ## H is also diurnal arc so sunrise is noon-H and sunset is noon+H\n",
    "    \n",
    "    GST0 = M_sun+w_sun+180  # L+180\n",
    "    LST = RA_degrees\n",
    "    #LST = GMST0 + UT*15.0 + longitude\n",
    "    UT = (LST - GST0 - longitude)/15\n",
    "    \n",
    "    ## H + UT = sunset, UT - H = sunrise\n",
    "    return H, UT"
   ]
  },
  {
   "cell_type": "code",
   "execution_count": 52,
   "metadata": {},
   "outputs": [
    {
     "name": "stdout",
     "output_type": "stream",
     "text": [
      "H 1.707023572917555, UT -59.27983910582199\n"
     ]
    }
   ],
   "source": [
    "## computer rise/set for MARS for 1-1-2004 from Bangalore lat=12° 58' 18.98\", long = 77° 35' 37.28\"\n",
    "Decl = 3.6742994658883275\n",
    "RA_degrees = 8.368000846306126\n",
    "latitude = 12.0 + 58/60 + 18.98/3600\n",
    "longitude = 77 + 35/60 + 37.78/3600\n",
    "M_sun = 356.9535109211031\n",
    "w_sun = 283.01824873475516\n",
    "\n",
    "H, UT = do_rise_set(Decl, RA_degrees, latitude, longitude, M_sun, w_sun)\n",
    "\n",
    "print(f'H {H}, UT {UT}')"
   ]
  },
  {
   "cell_type": "code",
   "execution_count": null,
   "metadata": {},
   "outputs": [],
   "source": [
    "## verify Mercury\n",
    "N=48.3313\n",
    "N_d=3.24587E-5\n",
    "I=7.0047\n",
    "I_d=5.00E-8\n",
    "w=29.1241\n",
    "w_d=1.01444E-5\n",
    "a=0.387098\n",
    "a_d=0\n",
    "e=0.205635\n",
    "e_d=5.59E-10\n",
    "M=168.6562\n",
    "M_d=4.0923344368\n",
    "x_mer_helio_ecl,y_mer_helio_ecl,z_mer_helio_ecl = do_stjarnhimlen(jd,a,e,w,M,a_d,e_d,w_d,M_d,N,N_d,I,I_d)\n",
    "#print(f'Stjarnhimlen for Mercury 19/4/1990: x_mer_helio_ecl {x_mer_helio_ecl}, y_mer_helio_ecl {y_mer_helio_ecl}, z_mer_helio_ecl {z_mer_helio_ecl}')\n",
    "\n",
    "\n",
    "## from Earth it is sum of x_sun_helio_ecl and x_mer_helio_ecl\n",
    "x_geo_ecl = x_mer_helio_ecl + x_sun_helio_ecl\n",
    "y_geo_ecl = y_mer_helio_ecl + y_sun_helio_ecl\n",
    "z_geo_ecl = z_mer_helio_ecl + z_sun_helio_ecl\n",
    "\n",
    "## now rotate by obliquity of Eclipise ie. 23 degree tilt to get equatorial\n",
    "oblecl = 23.4393\n",
    "x_geo_eq = x_geo_ecl\n",
    "y_geo_eq = y_geo_ecl * cos(oblecl) - z_geo_ecl * sin(oblecl)\n",
    "z_geo_eq = y_geo_ecl * sin(oblecl) + z_geo_ecl * cos(oblecl)\n",
    "\n",
    "RA = arctan_stleimlen(x_geo_eq,y_geo_eq)\n",
    "Decl = arctan_stleimlen(math.sqrt(x_geo_eq*x_geo_eq + y_geo_eq*y_geo_eq),z_geo_eq)\n",
    "## print(f'Stjarnhimlen for Mercury 19/4/1990: x_geo_eq {x_geo_eq}, y_geo_eq {y_geo_eq}, z_geo_eq {z_geo_eq}, RA {RA}, decl {Decl}')\n"
   ]
  }
 ],
 "metadata": {
  "kernelspec": {
   "display_name": "Python 3",
   "language": "python",
   "name": "python3"
  },
  "language_info": {
   "codemirror_mode": {
    "name": "ipython",
    "version": 3
   },
   "file_extension": ".py",
   "mimetype": "text/x-python",
   "name": "python",
   "nbconvert_exporter": "python",
   "pygments_lexer": "ipython3",
   "version": "3.7.3"
  }
 },
 "nbformat": 4,
 "nbformat_minor": 2
}
